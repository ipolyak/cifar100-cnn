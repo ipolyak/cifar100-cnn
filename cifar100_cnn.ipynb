{
 "cells": [
  {
   "cell_type": "code",
   "execution_count": 1,
   "id": "359ac738",
   "metadata": {},
   "outputs": [],
   "source": [
    "# Импорт необходимых библиотек\n",
    "import numpy as np\n",
    "import pandas as pd\n",
    "import tensorflow as tf\n",
    "from keras_flops import get_flops"
   ]
  },
  {
   "cell_type": "code",
   "execution_count": 2,
   "id": "c3d30c94",
   "metadata": {},
   "outputs": [],
   "source": [
    "# Глобальные константы\n",
    "CLASSES       = 100\n",
    "BATCH_SIZE    = 128\n",
    "LEARNING_RATE = 1e-2"
   ]
  },
  {
   "cell_type": "code",
   "execution_count": 3,
   "id": "3e95ea74",
   "metadata": {},
   "outputs": [],
   "source": [
    "# Выполните загрузку модели\n",
    "(X_train, y_train), (X_val, y_val) = tf.keras.datasets.cifar100.load_data()\n",
    "\n",
    "X_train = X_train.astype('float32')\n",
    "X_val = X_val.astype('float32')"
   ]
  },
  {
   "cell_type": "code",
   "execution_count": 4,
   "id": "84e593e9",
   "metadata": {},
   "outputs": [],
   "source": [
    "# Преобразуйте метки классов в one_hot формат\n",
    "y_train = np.eye(CLASSES)[y_train.reshape(-1)]\n",
    "y_val = np.eye(CLASSES)[y_val.reshape(-1)]"
   ]
  },
  {
   "cell_type": "code",
   "execution_count": 5,
   "id": "e2d0977a",
   "metadata": {},
   "outputs": [],
   "source": [
    "# убедитесь, что данная ячейка выполняется без ошибок\n",
    "assert X_train.shape == (50000, 32, 32, 3)\n",
    "assert X_val.shape == (10000, 32, 32, 3)\n",
    "assert y_train.shape == (50000, 100)\n",
    "assert y_val.shape == (10000, 100)"
   ]
  },
  {
   "cell_type": "code",
   "execution_count": 41,
   "id": "9db58953",
   "metadata": {},
   "outputs": [],
   "source": [
    "# Задайте архитектуру модели\n",
    "\n",
    "model = tf.keras.models.Sequential()\n",
    "\n",
    "model.add(tf.keras.layers.InputLayer(input_shape=(32, 32, 3)))\n",
    "model.add(tf.keras.layers.Rescaling(1. / 255))\n",
    "\n",
    "model.add(tf.keras.layers.SeparableConv2D(20, 3, padding='same'))\n",
    "model.add(tf.keras.layers.BatchNormalization())\n",
    "model.add(tf.keras.layers.LeakyReLU())\n",
    "model.add(tf.keras.layers.MaxPooling2D(pool_size=(2, 2), strides=(2, 2), padding=\"same\"))\n",
    "\n",
    "model.add(tf.keras.layers.SeparableConv2D(15, 3, padding='same'))\n",
    "model.add(tf.keras.layers.BatchNormalization())\n",
    "model.add(tf.keras.layers.LeakyReLU())\n",
    "model.add(tf.keras.layers.MaxPooling2D(pool_size=(2, 2), strides=(2, 2), padding=\"same\"))\n",
    "\n",
    "model.add(tf.keras.layers.SeparableConv2D(10, 3, padding='same'))\n",
    "model.add(tf.keras.layers.BatchNormalization())\n",
    "model.add(tf.keras.layers.LeakyReLU())\n",
    "#model.add(tf.keras.layers.MaxPooling2D(pool_size=(2, 2), strides=(2, 2), padding=\"same\"))\n",
    "\n",
    "\n",
    "model.add(tf.keras.layers.Flatten())\n",
    "\n",
    "model.add(tf.keras.layers.Dense(63))\n",
    "model.add(tf.keras.layers.BatchNormalization())\n",
    "model.add(tf.keras.layers.LeakyReLU())\n",
    "model.add(tf.keras.layers.Dropout(0.5))\n",
    "\n",
    "model.add(tf.keras.layers.Dense(CLASSES))\n",
    "model.add(tf.keras.layers.Activation('softmax'))"
   ]
  },
  {
   "cell_type": "code",
   "execution_count": 42,
   "id": "b3b7668f",
   "metadata": {},
   "outputs": [
    {
     "name": "stdout",
     "output_type": "stream",
     "text": [
      "FLOPs: 0.6604e6\n"
     ]
    }
   ],
   "source": [
    "# вычисление количества операций\n",
    "flops = get_flops(model, batch_size=1)\n",
    "print(f\"FLOPs: {(flops / 1e6):.4f}e6\")"
   ]
  },
  {
   "cell_type": "code",
   "execution_count": 43,
   "id": "ef8d72bb",
   "metadata": {},
   "outputs": [
    {
     "name": "stdout",
     "output_type": "stream",
     "text": [
      "Model: \"sequential_14\"\n",
      "_________________________________________________________________\n",
      " Layer (type)                Output Shape              Param #   \n",
      "=================================================================\n",
      " rescaling_14 (Rescaling)    (None, 32, 32, 3)         0         \n",
      "                                                                 \n",
      " separable_conv2d_42 (Separa  (None, 32, 32, 20)       107       \n",
      " bleConv2D)                                                      \n",
      "                                                                 \n",
      " batch_normalization_63 (Bat  (None, 32, 32, 20)       80        \n",
      " chNormalization)                                                \n",
      "                                                                 \n",
      " leaky_re_lu_63 (LeakyReLU)  (None, 32, 32, 20)        0         \n",
      "                                                                 \n",
      " max_pooling2d_28 (MaxPoolin  (None, 16, 16, 20)       0         \n",
      " g2D)                                                            \n",
      "                                                                 \n",
      " separable_conv2d_43 (Separa  (None, 16, 16, 15)       495       \n",
      " bleConv2D)                                                      \n",
      "                                                                 \n",
      " batch_normalization_64 (Bat  (None, 16, 16, 15)       60        \n",
      " chNormalization)                                                \n",
      "                                                                 \n",
      " leaky_re_lu_64 (LeakyReLU)  (None, 16, 16, 15)        0         \n",
      "                                                                 \n",
      " max_pooling2d_29 (MaxPoolin  (None, 8, 8, 15)         0         \n",
      " g2D)                                                            \n",
      "                                                                 \n",
      " separable_conv2d_44 (Separa  (None, 8, 8, 10)         295       \n",
      " bleConv2D)                                                      \n",
      "                                                                 \n",
      " batch_normalization_65 (Bat  (None, 8, 8, 10)         40        \n",
      " chNormalization)                                                \n",
      "                                                                 \n",
      " leaky_re_lu_65 (LeakyReLU)  (None, 8, 8, 10)          0         \n",
      "                                                                 \n",
      " flatten_14 (Flatten)        (None, 640)               0         \n",
      "                                                                 \n",
      " dense_35 (Dense)            (None, 63)                40383     \n",
      "                                                                 \n",
      " batch_normalization_66 (Bat  (None, 63)               252       \n",
      " chNormalization)                                                \n",
      "                                                                 \n",
      " leaky_re_lu_66 (LeakyReLU)  (None, 63)                0         \n",
      "                                                                 \n",
      " dropout_21 (Dropout)        (None, 63)                0         \n",
      "                                                                 \n",
      " dense_36 (Dense)            (None, 100)               6400      \n",
      "                                                                 \n",
      " activation_14 (Activation)  (None, 100)               0         \n",
      "                                                                 \n",
      "=================================================================\n",
      "Total params: 48,112\n",
      "Trainable params: 47,896\n",
      "Non-trainable params: 216\n",
      "_________________________________________________________________\n"
     ]
    }
   ],
   "source": [
    "# вывод краткой информации о модели\n",
    "model.summary()"
   ]
  },
  {
   "cell_type": "code",
   "execution_count": 44,
   "id": "cbf76a5c",
   "metadata": {},
   "outputs": [],
   "source": [
    "# параметры данной ячейки могут быть изменены для получения более высокой точности\n",
    "model.compile(\n",
    "    optimizer=tf.keras.optimizers.Adam(\n",
    "        learning_rate=tf.keras.optimizers.schedules.ExponentialDecay(initial_learning_rate=LEARNING_RATE, decay_steps=1000, decay_rate=0.5)\n",
    "    ),\n",
    "    loss=tf.keras.losses.CategoricalCrossentropy(),\n",
    "    metrics=['accuracy']\n",
    ")"
   ]
  },
  {
   "cell_type": "code",
   "execution_count": 45,
   "id": "42f3ae47",
   "metadata": {},
   "outputs": [
    {
     "name": "stdout",
     "output_type": "stream",
     "text": [
      "Epoch 1/30\n",
      "391/391 [==============================] - 23s 55ms/step - loss: 3.8288 - accuracy: 0.1154 - val_loss: 4.2733 - val_accuracy: 0.0838\n",
      "Epoch 2/30\n",
      "391/391 [==============================] - 21s 54ms/step - loss: 3.4168 - accuracy: 0.1769 - val_loss: 5.3254 - val_accuracy: 0.0868\n",
      "Epoch 3/30\n",
      "391/391 [==============================] - 21s 55ms/step - loss: 3.2679 - accuracy: 0.2078 - val_loss: 3.1210 - val_accuracy: 0.2414\n",
      "Epoch 4/30\n",
      "391/391 [==============================] - 21s 55ms/step - loss: 3.1781 - accuracy: 0.2229 - val_loss: 3.4302 - val_accuracy: 0.1984\n",
      "Epoch 5/30\n",
      "391/391 [==============================] - 23s 58ms/step - loss: 3.1070 - accuracy: 0.2355 - val_loss: 2.9234 - val_accuracy: 0.2873\n",
      "Epoch 6/30\n",
      "391/391 [==============================] - 21s 55ms/step - loss: 3.0487 - accuracy: 0.2471 - val_loss: 3.3515 - val_accuracy: 0.2141\n",
      "Epoch 7/30\n",
      "391/391 [==============================] - 21s 54ms/step - loss: 3.0056 - accuracy: 0.2547 - val_loss: 2.9573 - val_accuracy: 0.2723\n",
      "Epoch 8/30\n",
      "391/391 [==============================] - 22s 55ms/step - loss: 2.9790 - accuracy: 0.2638 - val_loss: 2.8225 - val_accuracy: 0.3030\n",
      "Epoch 9/30\n",
      "391/391 [==============================] - 21s 55ms/step - loss: 2.9557 - accuracy: 0.2665 - val_loss: 2.7396 - val_accuracy: 0.3164\n",
      "Epoch 10/30\n",
      "391/391 [==============================] - 22s 55ms/step - loss: 2.9360 - accuracy: 0.2722 - val_loss: 2.7228 - val_accuracy: 0.3239\n",
      "Epoch 11/30\n",
      "391/391 [==============================] - 22s 55ms/step - loss: 2.9229 - accuracy: 0.2742 - val_loss: 2.7074 - val_accuracy: 0.3275\n",
      "Epoch 12/30\n",
      "391/391 [==============================] - 22s 55ms/step - loss: 2.9137 - accuracy: 0.2755 - val_loss: 2.7003 - val_accuracy: 0.3303\n",
      "Epoch 13/30\n",
      "391/391 [==============================] - 22s 55ms/step - loss: 2.9132 - accuracy: 0.2752 - val_loss: 2.6933 - val_accuracy: 0.3327\n",
      "Epoch 14/30\n",
      "391/391 [==============================] - 21s 54ms/step - loss: 2.8991 - accuracy: 0.2781 - val_loss: 2.6851 - val_accuracy: 0.3291\n",
      "Epoch 15/30\n",
      "391/391 [==============================] - 21s 54ms/step - loss: 2.8945 - accuracy: 0.2771 - val_loss: 2.6860 - val_accuracy: 0.3306\n",
      "Epoch 16/30\n",
      "391/391 [==============================] - 21s 54ms/step - loss: 2.8931 - accuracy: 0.2786 - val_loss: 2.6841 - val_accuracy: 0.3325\n",
      "Epoch 17/30\n",
      "391/391 [==============================] - 21s 55ms/step - loss: 2.8949 - accuracy: 0.2797 - val_loss: 2.6796 - val_accuracy: 0.3329\n",
      "Epoch 18/30\n",
      "391/391 [==============================] - 21s 55ms/step - loss: 2.8892 - accuracy: 0.2792 - val_loss: 2.6785 - val_accuracy: 0.3323\n",
      "Epoch 19/30\n",
      "391/391 [==============================] - 21s 54ms/step - loss: 2.8846 - accuracy: 0.2790 - val_loss: 2.6747 - val_accuracy: 0.3336\n",
      "Epoch 20/30\n",
      "391/391 [==============================] - 21s 54ms/step - loss: 2.8788 - accuracy: 0.2838 - val_loss: 2.6733 - val_accuracy: 0.3337\n",
      "Epoch 21/30\n",
      "391/391 [==============================] - 21s 54ms/step - loss: 2.8875 - accuracy: 0.2809 - val_loss: 2.6731 - val_accuracy: 0.3344\n",
      "Epoch 22/30\n",
      "391/391 [==============================] - 22s 55ms/step - loss: 2.8745 - accuracy: 0.2843 - val_loss: 2.6721 - val_accuracy: 0.3329\n",
      "Epoch 23/30\n",
      "391/391 [==============================] - 21s 54ms/step - loss: 2.8829 - accuracy: 0.2813 - val_loss: 2.6722 - val_accuracy: 0.3338\n",
      "Epoch 24/30\n",
      "391/391 [==============================] - 21s 55ms/step - loss: 2.8874 - accuracy: 0.2804 - val_loss: 2.6715 - val_accuracy: 0.3341\n",
      "Epoch 25/30\n",
      "391/391 [==============================] - 21s 55ms/step - loss: 2.8846 - accuracy: 0.2804 - val_loss: 2.6716 - val_accuracy: 0.3341\n",
      "Epoch 26/30\n",
      "391/391 [==============================] - 21s 55ms/step - loss: 2.8911 - accuracy: 0.2799 - val_loss: 2.6719 - val_accuracy: 0.3343\n",
      "Epoch 27/30\n",
      "391/391 [==============================] - 21s 55ms/step - loss: 2.8743 - accuracy: 0.2834 - val_loss: 2.6712 - val_accuracy: 0.3349\n",
      "Epoch 28/30\n",
      "391/391 [==============================] - 21s 55ms/step - loss: 2.8792 - accuracy: 0.2838 - val_loss: 2.6716 - val_accuracy: 0.3343\n",
      "Epoch 29/30\n",
      "391/391 [==============================] - 21s 55ms/step - loss: 2.8796 - accuracy: 0.2831 - val_loss: 2.6713 - val_accuracy: 0.3348\n",
      "Epoch 30/30\n",
      "391/391 [==============================] - 21s 55ms/step - loss: 2.8823 - accuracy: 0.2816 - val_loss: 2.6708 - val_accuracy: 0.3339\n"
     ]
    },
    {
     "data": {
      "text/plain": [
       "<keras.callbacks.History at 0x252319fa310>"
      ]
     },
     "execution_count": 45,
     "metadata": {},
     "output_type": "execute_result"
    }
   ],
   "source": [
    "# обучения модели\n",
    "model.fit(\n",
    "    x=X_train,\n",
    "    y=y_train,\n",
    "    validation_data=(X_val, y_val),\n",
    "    batch_size=BATCH_SIZE,\n",
    "    callbacks=[\n",
    "        tf.keras.callbacks.ModelCheckpoint(filepath=\"{epoch:02d}-{val_accuracy:.2f}.hdf5\", save_best_only=True),\n",
    "        \n",
    "    ],\n",
    "    use_multiprocessing=True,\n",
    "    workers=8,\n",
    "    epochs=30\n",
    ")"
   ]
  },
  {
   "cell_type": "code",
   "execution_count": null,
   "id": "fedd24ab",
   "metadata": {},
   "outputs": [],
   "source": []
  }
 ],
 "metadata": {
  "kernelspec": {
   "display_name": "Python 3 (ipykernel)",
   "language": "python",
   "name": "python3"
  },
  "language_info": {
   "codemirror_mode": {
    "name": "ipython",
    "version": 3
   },
   "file_extension": ".py",
   "mimetype": "text/x-python",
   "name": "python",
   "nbconvert_exporter": "python",
   "pygments_lexer": "ipython3",
   "version": "3.8.0"
  }
 },
 "nbformat": 4,
 "nbformat_minor": 5
}
