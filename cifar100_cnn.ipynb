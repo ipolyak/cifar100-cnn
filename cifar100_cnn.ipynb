{
 "cells": [
  {
   "cell_type": "code",
   "execution_count": 1,
   "id": "359ac738",
   "metadata": {},
   "outputs": [],
   "source": [
    "# Импорт необходимых библиотек\n",
    "import numpy as np\n",
    "import pandas as pd\n",
    "import tensorflow as tf\n",
    "from keras_flops import get_flops"
   ]
  },
  {
   "cell_type": "code",
   "execution_count": 2,
   "id": "c3d30c94",
   "metadata": {},
   "outputs": [],
   "source": [
    "# Глобальные константы\n",
    "CLASSES       = 100\n",
    "BATCH_SIZE    = 128\n",
    "LEARNING_RATE = 1e-2"
   ]
  },
  {
   "cell_type": "code",
   "execution_count": 3,
   "id": "3e95ea74",
   "metadata": {},
   "outputs": [],
   "source": [
    "# Выполните загрузку модели\n",
    "(X_train, y_train), (X_val, y_val) = tf.keras.datasets.cifar100.load_data()"
   ]
  },
  {
   "cell_type": "code",
   "execution_count": 4,
   "id": "84e593e9",
   "metadata": {},
   "outputs": [],
   "source": [
    "# Преобразуйте метки классов в one_hot формат\n",
    "y_train = np.eye(CLASSES)[y_train.reshape(-1)]\n",
    "y_val = np.eye(CLASSES)[y_val.reshape(-1)]"
   ]
  },
  {
   "cell_type": "code",
   "execution_count": 5,
   "id": "e2d0977a",
   "metadata": {},
   "outputs": [],
   "source": [
    "# убедитесь, что данная ячейка выполняется без ошибок\n",
    "assert X_train.shape == (50000, 32, 32, 3)\n",
    "assert X_val.shape == (10000, 32, 32, 3)\n",
    "assert y_train.shape == (50000, 100)\n",
    "assert y_val.shape == (10000, 100)"
   ]
  },
  {
   "cell_type": "code",
   "execution_count": 16,
   "id": "9db58953",
   "metadata": {},
   "outputs": [],
   "source": [
    "# Задайте архитектуру модели\n",
    "\n",
    "input_shape = (32, 32, 3)\n",
    "\n",
    "model = tf.keras.models.Sequential()\n",
    "\n",
    "model.add(tf.keras.layers.SeparableConv2D(6, 3, padding='same', input_shape=input_shape))\n",
    "model.add(tf.keras.layers.BatchNormalization())\n",
    "model.add(tf.keras.layers.LeakyReLU(alpha=0.01))\n",
    "model.add(tf.keras.layers.MaxPooling2D(pool_size=(2, 2), strides=(2, 2), padding=\"same\"))\n",
    "\n",
    "model.add(tf.keras.layers.SeparableConv2D(12, 3, padding='same'))\n",
    "model.add(tf.keras.layers.BatchNormalization())\n",
    "model.add(tf.keras.layers.LeakyReLU(alpha=0.01))\n",
    "model.add(tf.keras.layers.MaxPooling2D(pool_size=(2, 2), strides=(2, 2), padding=\"same\"))\n",
    "\n",
    "model.add(tf.keras.layers.SeparableConv2D(24, 3, padding='same'))\n",
    "model.add(tf.keras.layers.BatchNormalization())\n",
    "model.add(tf.keras.layers.LeakyReLU(alpha=0.01))\n",
    "model.add(tf.keras.layers.MaxPooling2D(pool_size=(4, 4), strides=(4, 4), padding=\"same\"))\n",
    "\n",
    "model.add(tf.keras.layers.Flatten())\n",
    "model.add(tf.keras.layers.Dense(1024))\n",
    "model.add(tf.keras.layers.BatchNormalization())\n",
    "model.add(tf.keras.layers.LeakyReLU(alpha=0.01))\n",
    "model.add(tf.keras.layers.Dropout(0.5))\n",
    "model.add(tf.keras.layers.Dense(CLASSES))\n",
    "model.add(tf.keras.layers.Activation('softmax'))"
   ]
  },
  {
   "cell_type": "code",
   "execution_count": 17,
   "id": "b3b7668f",
   "metadata": {},
   "outputs": [
    {
     "name": "stdout",
     "output_type": "stream",
     "text": [
      "FLOPs: 0.6618e6\n"
     ]
    }
   ],
   "source": [
    "# вычисление количества операций\n",
    "flops = get_flops(model, batch_size=1)\n",
    "print(f\"FLOPs: {(flops / 1e6):.4f}e6\")"
   ]
  },
  {
   "cell_type": "code",
   "execution_count": 18,
   "id": "ef8d72bb",
   "metadata": {},
   "outputs": [
    {
     "name": "stdout",
     "output_type": "stream",
     "text": [
      "Model: \"sequential_2\"\n",
      "_________________________________________________________________\n",
      " Layer (type)                Output Shape              Param #   \n",
      "=================================================================\n",
      " separable_conv2d_6 (Separab  (None, 32, 32, 6)        51        \n",
      " leConv2D)                                                       \n",
      "                                                                 \n",
      " batch_normalization_8 (Batc  (None, 32, 32, 6)        24        \n",
      " hNormalization)                                                 \n",
      "                                                                 \n",
      " leaky_re_lu_8 (LeakyReLU)   (None, 32, 32, 6)         0         \n",
      "                                                                 \n",
      " max_pooling2d_6 (MaxPooling  (None, 16, 16, 6)        0         \n",
      " 2D)                                                             \n",
      "                                                                 \n",
      " separable_conv2d_7 (Separab  (None, 16, 16, 12)       138       \n",
      " leConv2D)                                                       \n",
      "                                                                 \n",
      " batch_normalization_9 (Batc  (None, 16, 16, 12)       48        \n",
      " hNormalization)                                                 \n",
      "                                                                 \n",
      " leaky_re_lu_9 (LeakyReLU)   (None, 16, 16, 12)        0         \n",
      "                                                                 \n",
      " max_pooling2d_7 (MaxPooling  (None, 8, 8, 12)         0         \n",
      " 2D)                                                             \n",
      "                                                                 \n",
      " separable_conv2d_8 (Separab  (None, 8, 8, 24)         420       \n",
      " leConv2D)                                                       \n",
      "                                                                 \n",
      " batch_normalization_10 (Bat  (None, 8, 8, 24)         96        \n",
      " chNormalization)                                                \n",
      "                                                                 \n",
      " leaky_re_lu_10 (LeakyReLU)  (None, 8, 8, 24)          0         \n",
      "                                                                 \n",
      " max_pooling2d_8 (MaxPooling  (None, 2, 2, 24)         0         \n",
      " 2D)                                                             \n",
      "                                                                 \n",
      " flatten_2 (Flatten)         (None, 96)                0         \n",
      "                                                                 \n",
      " dense_4 (Dense)             (None, 1024)              99328     \n",
      "                                                                 \n",
      " batch_normalization_11 (Bat  (None, 1024)             4096      \n",
      " chNormalization)                                                \n",
      "                                                                 \n",
      " leaky_re_lu_11 (LeakyReLU)  (None, 1024)              0         \n",
      "                                                                 \n",
      " dropout_2 (Dropout)         (None, 1024)              0         \n",
      "                                                                 \n",
      " dense_5 (Dense)             (None, 100)               102500    \n",
      "                                                                 \n",
      " activation_2 (Activation)   (None, 100)               0         \n",
      "                                                                 \n",
      "=================================================================\n",
      "Total params: 206,701\n",
      "Trainable params: 204,569\n",
      "Non-trainable params: 2,132\n",
      "_________________________________________________________________\n"
     ]
    }
   ],
   "source": [
    "# вывод краткой информации о модели\n",
    "model.summary()"
   ]
  },
  {
   "cell_type": "code",
   "execution_count": 19,
   "id": "cbf76a5c",
   "metadata": {},
   "outputs": [],
   "source": [
    "# параметры данной ячейки могут быть изменены для получения более высокой точности\n",
    "model.compile(\n",
    "    optimizer=tf.keras.optimizers.Adam(\n",
    "        learning_rate=tf.keras.optimizers.schedules.ExponentialDecay(initial_learning_rate=LEARNING_RATE, decay_steps=1000, decay_rate=0.5)\n",
    "    ),\n",
    "    loss=tf.keras.losses.CategoricalCrossentropy(),\n",
    "    metrics=['accuracy']\n",
    ")"
   ]
  },
  {
   "cell_type": "code",
   "execution_count": 20,
   "id": "42f3ae47",
   "metadata": {},
   "outputs": [
    {
     "name": "stdout",
     "output_type": "stream",
     "text": [
      "Epoch 1/30\n",
      "391/391 [==============================] - 17s 41ms/step - loss: 3.9889 - accuracy: 0.1228 - val_loss: 4.4315 - val_accuracy: 0.1157\n",
      "Epoch 2/30\n",
      "391/391 [==============================] - 15s 38ms/step - loss: 3.3163 - accuracy: 0.1997 - val_loss: 3.7742 - val_accuracy: 0.1666\n",
      "Epoch 3/30\n",
      "391/391 [==============================] - 15s 39ms/step - loss: 3.1064 - accuracy: 0.2377 - val_loss: 3.1848 - val_accuracy: 0.2311\n",
      "Epoch 4/30\n",
      "391/391 [==============================] - 15s 38ms/step - loss: 2.9534 - accuracy: 0.2663 - val_loss: 3.1077 - val_accuracy: 0.2464\n",
      "Epoch 5/30\n",
      "391/391 [==============================] - 15s 38ms/step - loss: 2.8324 - accuracy: 0.2900 - val_loss: 3.0817 - val_accuracy: 0.2573\n",
      "Epoch 6/30\n",
      "391/391 [==============================] - 15s 38ms/step - loss: 2.7329 - accuracy: 0.3108 - val_loss: 2.8460 - val_accuracy: 0.2959\n",
      "Epoch 7/30\n",
      "391/391 [==============================] - 15s 38ms/step - loss: 2.6516 - accuracy: 0.3279 - val_loss: 2.8694 - val_accuracy: 0.2971\n",
      "Epoch 8/30\n",
      "391/391 [==============================] - 15s 38ms/step - loss: 2.5854 - accuracy: 0.3397 - val_loss: 2.7918 - val_accuracy: 0.3074\n",
      "Epoch 9/30\n",
      "391/391 [==============================] - 15s 38ms/step - loss: 2.5311 - accuracy: 0.3538 - val_loss: 2.7571 - val_accuracy: 0.3182\n",
      "Epoch 10/30\n",
      "391/391 [==============================] - 15s 39ms/step - loss: 2.4868 - accuracy: 0.3634 - val_loss: 2.7704 - val_accuracy: 0.3166\n",
      "Epoch 11/30\n",
      "391/391 [==============================] - 15s 38ms/step - loss: 2.4481 - accuracy: 0.3693 - val_loss: 2.7409 - val_accuracy: 0.3204\n",
      "Epoch 12/30\n",
      "391/391 [==============================] - 15s 39ms/step - loss: 2.4206 - accuracy: 0.3718 - val_loss: 2.7311 - val_accuracy: 0.3273\n",
      "Epoch 13/30\n",
      "391/391 [==============================] - 15s 38ms/step - loss: 2.4086 - accuracy: 0.3778 - val_loss: 2.7257 - val_accuracy: 0.3255\n",
      "Epoch 14/30\n",
      "391/391 [==============================] - 15s 38ms/step - loss: 2.3809 - accuracy: 0.3857 - val_loss: 2.7228 - val_accuracy: 0.3256\n",
      "Epoch 15/30\n",
      "391/391 [==============================] - 15s 38ms/step - loss: 2.3767 - accuracy: 0.3851 - val_loss: 2.7221 - val_accuracy: 0.3275\n",
      "Epoch 16/30\n",
      "391/391 [==============================] - 15s 38ms/step - loss: 2.3673 - accuracy: 0.3879 - val_loss: 2.7194 - val_accuracy: 0.3279\n",
      "Epoch 17/30\n",
      "391/391 [==============================] - 15s 38ms/step - loss: 2.3561 - accuracy: 0.3879 - val_loss: 2.7165 - val_accuracy: 0.3282\n",
      "Epoch 18/30\n",
      "391/391 [==============================] - 15s 38ms/step - loss: 2.3479 - accuracy: 0.3903 - val_loss: 2.7174 - val_accuracy: 0.3275\n",
      "Epoch 19/30\n",
      "391/391 [==============================] - 15s 38ms/step - loss: 2.3476 - accuracy: 0.3891 - val_loss: 2.7167 - val_accuracy: 0.3278\n",
      "Epoch 20/30\n",
      "391/391 [==============================] - 15s 39ms/step - loss: 2.3432 - accuracy: 0.3913 - val_loss: 2.7158 - val_accuracy: 0.3286\n",
      "Epoch 21/30\n",
      "391/391 [==============================] - 15s 39ms/step - loss: 2.3440 - accuracy: 0.3892 - val_loss: 2.7155 - val_accuracy: 0.3276\n",
      "Epoch 22/30\n",
      "391/391 [==============================] - 15s 38ms/step - loss: 2.3419 - accuracy: 0.3930 - val_loss: 2.7159 - val_accuracy: 0.3280\n",
      "Epoch 23/30\n",
      "391/391 [==============================] - 15s 38ms/step - loss: 2.3395 - accuracy: 0.3947 - val_loss: 2.7147 - val_accuracy: 0.3299\n",
      "Epoch 24/30\n",
      "391/391 [==============================] - 15s 39ms/step - loss: 2.3365 - accuracy: 0.3928 - val_loss: 2.7153 - val_accuracy: 0.3295\n",
      "Epoch 25/30\n",
      "391/391 [==============================] - 16s 42ms/step - loss: 2.3302 - accuracy: 0.3951 - val_loss: 2.7154 - val_accuracy: 0.3293\n",
      "Epoch 26/30\n",
      "391/391 [==============================] - 15s 38ms/step - loss: 2.3351 - accuracy: 0.3928 - val_loss: 2.7146 - val_accuracy: 0.3292\n",
      "Epoch 27/30\n",
      "391/391 [==============================] - 15s 38ms/step - loss: 2.3344 - accuracy: 0.3930 - val_loss: 2.7148 - val_accuracy: 0.3290\n",
      "Epoch 28/30\n",
      "391/391 [==============================] - 15s 38ms/step - loss: 2.3306 - accuracy: 0.3953 - val_loss: 2.7148 - val_accuracy: 0.3281\n",
      "Epoch 29/30\n",
      "391/391 [==============================] - 15s 38ms/step - loss: 2.3298 - accuracy: 0.3936 - val_loss: 2.7151 - val_accuracy: 0.3293\n",
      "Epoch 30/30\n",
      "391/391 [==============================] - 15s 38ms/step - loss: 2.3279 - accuracy: 0.3948 - val_loss: 2.7151 - val_accuracy: 0.3297\n"
     ]
    },
    {
     "data": {
      "text/plain": [
       "<keras.callbacks.History at 0x166d51c75e0>"
      ]
     },
     "execution_count": 20,
     "metadata": {},
     "output_type": "execute_result"
    }
   ],
   "source": [
    "# обучения модели\n",
    "model.fit(\n",
    "    x=X_train,\n",
    "    y=y_train,\n",
    "    validation_data=(X_val, y_val),\n",
    "    batch_size=BATCH_SIZE,\n",
    "    callbacks=[\n",
    "        tf.keras.callbacks.ModelCheckpoint(filepath=\"{epoch:02d}-{val_accuracy:.2f}.hdf5\", save_best_only=True),\n",
    "        \n",
    "    ],\n",
    "    use_multiprocessing=True,\n",
    "    workers=8,\n",
    "    epochs=30\n",
    ")"
   ]
  },
  {
   "cell_type": "code",
   "execution_count": null,
   "id": "fedd24ab",
   "metadata": {},
   "outputs": [],
   "source": []
  },
  {
   "cell_type": "code",
   "execution_count": null,
   "id": "be567737",
   "metadata": {},
   "outputs": [],
   "source": []
  },
  {
   "cell_type": "code",
   "execution_count": null,
   "id": "3c17a5d0",
   "metadata": {},
   "outputs": [],
   "source": []
  },
  {
   "cell_type": "code",
   "execution_count": null,
   "id": "7e04baaa",
   "metadata": {},
   "outputs": [],
   "source": []
  },
  {
   "cell_type": "code",
   "execution_count": null,
   "id": "ce822928",
   "metadata": {},
   "outputs": [],
   "source": []
  }
 ],
 "metadata": {
  "kernelspec": {
   "display_name": "Python 3 (ipykernel)",
   "language": "python",
   "name": "python3"
  },
  "language_info": {
   "codemirror_mode": {
    "name": "ipython",
    "version": 3
   },
   "file_extension": ".py",
   "mimetype": "text/x-python",
   "name": "python",
   "nbconvert_exporter": "python",
   "pygments_lexer": "ipython3",
   "version": "3.8.0"
  }
 },
 "nbformat": 4,
 "nbformat_minor": 5
}
